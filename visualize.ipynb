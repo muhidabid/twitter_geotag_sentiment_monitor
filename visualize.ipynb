{
 "metadata": {
  "language_info": {
   "codemirror_mode": {
    "name": "ipython",
    "version": 3
   },
   "file_extension": ".py",
   "mimetype": "text/x-python",
   "name": "python",
   "nbconvert_exporter": "python",
   "pygments_lexer": "ipython3",
   "version": "3.9.5"
  },
  "orig_nbformat": 4,
  "kernelspec": {
   "name": "python3",
   "display_name": "Python 3.9.5 64-bit"
  },
  "interpreter": {
   "hash": "f1f05b3a9131b003f4c3c832b6f7deb4156fbdd4b5ed6df0dea01c8ae6ad659d"
  }
 },
 "nbformat": 4,
 "nbformat_minor": 2,
 "cells": [
  {
   "cell_type": "code",
   "execution_count": 1,
   "metadata": {},
   "outputs": [
    {
     "output_type": "stream",
     "name": "stdout",
     "text": [
      "      Province  Positive  Negative  Neutral\n0          KPK       132       103      189\n1         FATA        21        18       30\n2    ISLAMABAD         8         6        9\n3       PUNJAB       465       354      721\n4        SINDH       205       164      334\n5  BALOCHISTAN        44        29       81\n"
     ]
    }
   ],
   "source": [
    "# Animation Guide: https://holypython.com/python-visualization-tutorial/creating-bar-chart-animations/\n",
    "\n",
    "import matplotlib.pyplot as plt\n",
    "import seaborn as sns\n",
    "import pandas as pd\n",
    "import numpy as np\n",
    "\n",
    "from matplotlib import animation\n",
    "from matplotlib.animation import FuncAnimation\n",
    "from itertools import count\n",
    "\n",
    "import random\n",
    "\n",
    "%matplotlib qt\n",
    "\n",
    "fig = plt.figure(figsize=(15,10))\n",
    "# axes = fig.add_subplot(1,1,1)\n",
    "# axes.set_ylim(0, 150)\n",
    "plt.style.use(\"seaborn\")\n",
    "\n",
    "palette = list(reversed(sns.color_palette(\"seismic\", 6).as_hex()))\n",
    "\n",
    "df = pd.read_csv('IK_tweets_provincial_stats.csv')\n",
    "print(df)\n",
    "x_axis = np.arange(6)\n",
    "\n",
    "\n",
    "def animate(i):\n",
    "    if i == 0: plt.legend()\n",
    "    df = pd.read_csv('IK_tweets_provincial_stats.csv')\n",
    "    f_obj = open('tweet.txt', 'r')\n",
    "    tweet = f_obj.read()\n",
    "    f_obj.close()\n",
    "\n",
    "    plt.bar(x_axis, df['Positive'], color='lawngreen', width = 0.25, label='positive')\n",
    "    plt.bar(x_axis+0.25, df['Negative'], color='coral', width = 0.25, label='negative')\n",
    "    plt.bar(x_axis+0.5, df['Neutral'], color='slategrey', width = 0.25, label='neutral')\n",
    "    plt.title(tweet, color=(\"blue\"))\n",
    "    # ax.set_title('\\n'.join(wrap(tweet)), color=(\"blue\"))\n",
    "\n",
    "plt.xticks(x_axis, df['Province'])\n",
    "ani = FuncAnimation(plt.gcf(), animate, interval=1000)"
   ]
  },
  {
   "cell_type": "code",
   "execution_count": null,
   "metadata": {},
   "outputs": [],
   "source": []
  }
 ]
}